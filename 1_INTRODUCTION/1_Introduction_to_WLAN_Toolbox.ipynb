{
 "cells": [
 {
          "cell_type": "markdown",
          "metadata": {},
          "source": ["## Copyright [2025] [Indian Institute of Science, Bengaluru]", "\n", "## SPDX-License-Identifier: Apache-2.0"]
          },

{
 "cell_type": "markdown",

   "metadata": {},
   "source": [
    "# Course: Experimenting with WLAN Toolbox of MathWorks"
   ]
  },
  {
   "cell_type": "markdown",

   "metadata": {},
   "source": [
    "## Introduction to the course"
   ]
  },
  {
   "cell_type": "markdown",

   "metadata": {},
   "source": [
    "This beginner-friendly course introduces and explores the MATLAB WLAN Toolbox of MathWorks. It covers the conceptual study and discussion of eight simulation experiments derived from the initial research work on IEEE 802.11ax WLANs (Wi-Fi 6). The course content is developed by Sheela C S, CNI-Research Scholar pursuing Ph.D. under the supervision of Prof. Joy Kuri in the Network Research Lab, Department of Electronic Systems Engineering, Indian Institute of Science, Bangalore, India.\n",
    "\n",
    "Each experiment includes:\n",
    "\n",
    "•	A learning objective outlining key takeaways\n",
    "\n",
    "•	Technical concepts explained in detail\n",
    "\n",
    "• 	Step-by-step MATLAB code walkthrough and\n",
  "\n",
    "•	Simulation results discussion to interpret findings.\n",
  "\n",
    "Whether you are a student, researcher, or wireless communications enthusiast, this series will help you get hands-on experience with the WLAN Toolbox and accelerate your learning journey in WLAN technology and MATLAB-based simulations. To see more details, click on the course webpage [Experimenting with WLANToolbox of MathWorks](https://www.youtube.com/watch?v=2jG_EMtY2xY&list=PLNN9TCnjABcYHR9XRiQitBCHJUeT_58QG&index=3)\n",
   ]
  },

  {
   "cell_type": "markdown",

   "metadata": {},
   "source": [
    "# Course : Experimenting with WLAN Toolbox of MathWorks"
   ]
  },
  {
   "cell_type": "markdown",

   "metadata": {},
   "source": [
    "## Introduction to WLAN toolbox"
   ]
  },
  {
   "cell_type": "markdown",

   "metadata": {},
   "source": [
    "WLAN System Toolbox of MathWorks has the following features.\n",
    "\n",
    "• enables faster and more robust WLAN design\n",
    "\n",
    "• designers and test engineers can use standard-compliant functions for the design, simulation,\n",
    "analysis, and testing of wireless LAN communications systems.\n",
    "\n",
    "• WLAN market very much needed such a development and testing capability\n",
    "Earlier designers were spending precious time in creating reference models, generating test signals\n",
    "for their systems. Test engineers were also struggling to verify the performance of a newly designed\n",
    "WLAN product. Now designers and test engineers can have a head start in their design efforts for a\n",
    "product and/or a test system. A robust end-to-end system can be created and tested.\n",
    "\n",
    "The WLAN System Toolbox provides:\n",
    "\n",
    "• end-to-end system simulation and algorithm development\n",
    "\n",
    "• measurement and analysis of system performance\n",
    "\n",
    "• over-the-air waveform transmission and reception with software-defined radios and RF instru\u0002ments\n"
   ]
  },
  {
   "cell_type": "markdown",

   "metadata": {},
   "source": [
    "### *Note: Please see the [Introduction to WLAN Toolbox](https://www.youtube.com/watch?v=wm7ne8xKOL0&t=1s) on the CNI YouTube channel for a detailed explanation.*"
   ]
 },
{
"cell_type": "markdown",

   "metadata": {},
"source": [
"### *Note: To know more about the course, click on [Experimenting with WLANToolbox of MathWorks](https://www.youtube.com/watch?v=2jG_EMtY2xY&list=PLNN9TCnjABcYHR9XRiQitBCHJUeT_58QG&index=3)*"
   ]
},
  {
   "cell_type": "markdown",

   "metadata": {},
   "source": [
    "## Useful links in Mathworks"
   ]
  },
  {
   "cell_type": "markdown",

   "metadata": {},
   "source": [
    "1. [WLAN Toolbox](https://in.mathworks.com/help/wlan/index.html?s_tid=CRUX_lftnav)\n",
    "\n",
    "2. [WLAN HESU Configuration system object](https://in.mathworks.com/help/wlan/ref/wlanhesuconfig.html#mw_12ce61d2-4b46-4827-9281-e65b2413e9ba_sep_mw_biblio_80211ax-2021)\n",
    "\n",
    "3. [HE PPDU formats](https://in.mathworks.com/help/releases/R2021a/wlan/gs/waveform-generation.html)\n",
    "\n",
    "4. [WLAN Waveform generator](https://in.mathworks.com/help/wlan/ref/wlanwaveformgenerator.html)\n",
    "\n",
    "5. [Propagation Channel Models](https://in.mathworks.com/help/wlan/propagation-channel-models.html?s_tid=CRUX_lftnav)\n",
    "\n",
    "6. [WLAN TGax Channel](https://in.mathworks.com/help/wlan/ref/wlantgaxchannel-system-object.html)\n"
   ]
  }
 ],
 "metadata": {
  "kernelspec": {
   "display_name": "MATLAB Kernel",
   "language": "matlab",
   "name": "jupyter_matlab_kernel"
  },
  "language_info": {
   "file_extension": ".m",
   "mimetype": "text/x-matlab",
   "name": "matlab"
  }
 },
 "nbformat": 4,
 "nbformat_minor": 5
}
