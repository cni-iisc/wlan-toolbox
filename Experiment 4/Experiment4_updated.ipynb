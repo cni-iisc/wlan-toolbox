{
 "cells": [
  {
   "cell_type": "markdown",
   "id": "27489c31-2959-4b7a-8eb1-7018a1c84a9c",
   "metadata": {},
   "source": [
    "## Experiment 4 : Estimation of channel frequency response in an 802.11ax SISO-OFDM channel​\r\n"
   ]
  },
  {
   "cell_type": "markdown",
   "id": "9a929996-56bb-4e05-8100-2c3d83860350",
   "metadata": {},
   "source": [
    "### *1. Learning objectives*"
   ]
  },
  {
   "cell_type": "markdown",
   "id": "29412caa-ac42-45e8-bd4a-2fd5d8743764",
   "metadata": {},
   "source": [
    "• 256-QAM modulated populated sub-carriers of L-LTF field of packet preamble \n",
    "\n",
    "• Estimation of channel frequency response (CFR), |Hi| using wlanLLTFChannelEstimate\n",
    "\n",
    "• Least Squares (LS) estimation of CFR over L-LTF subcarriers\n",
    "\n",
    "• DFT of Actual Channel impulse response plot\n",
    "\n",
    "• Comparing CFR obtained in all three methods\n"
   ]
  },
  {
   "cell_type": "markdown",
   "id": "25211818-2f4b-4758-981b-4546e3cea57c",
   "metadata": {},
   "source": [
    "### *2. Theory*"
   ]
  },
  {
   "cell_type": "markdown",
   "id": "8385fb32-98cc-4b8f-8062-42ed8a1b4928",
   "metadata": {},
   "source": [
    "#### • Orthogonal Frequency Division Multiplexing (OFDM)"
   ]
  },
  {
   "cell_type": "markdown",
   "id": "e98b002e-9a33-4f1e-959f-9021d11c43c2",
   "metadata": {},
   "source": [
    "OFDM is a widely used digital modulation technique in modern wireless communication systems, especially in high data rate applications like WiFi, LTE, and 5G. It divides a high-data-rate signal into multiple lower data-rate sub-signals that are transmitted simultaneously over several orthogonal subcarriers. This division allows for more efficient use of the spectrum and robustness against multipath fading and also helps us to tackle ISI (Inter Symbol Interference)."
   ]
  },
  {
   "cell_type": "markdown",
   "id": "bd47f5ff-1b8c-496e-80cc-8b41411b0989",
   "metadata": {},
   "source": [
    "**Key Concepts of OFDM**\n",
    "1. **Orthogonality of Subcarriers**\n",
    "   - In OFDM, multiple closely spaced carrier frequencies (subcarriers) are used, but they remain orthogonal to each other. This orthogonality ensures that the subcarriers do not interfere with each other, even though they overlap in frequency\n",
    "   - Mathematically, if the subcarriers are separated by $\\Delta f$ such that $\\Delta f = 1/T$ (where $T$ is the symbol duration), each subcarrier frequency $f_n$ is given by $f_n = f_0 + n\\Delta f$\n",
    "   - This ensures that the integral product of any two subcarriers over a symbol period $T$ is zero (orthogonality).\n",
    "2. **IFFT and FFT Processing**\n",
    "   - OFDM uses the Inverse Fast Fourier Transform (IFFT) at the transmitter to convert frequency-domain data into the time-domain signal, enabling simultaneous transmission of all subcarriers\n",
    "   - At the receiver, the Fast Fourier Transform (FFT) is applied to recover the original data from the received signal.\n",
    "3. **Guard Interval and Cyclic Prefix**\n",
    "   - A cyclic prefix (CP) is added to each OFDM symbol to mitigate Inter-Symbol Interference (ISI) from multipath propagation.\n",
    "   - The CP is a copy of the end part of the OFDM symbol appended to its beginning. It acts as a buffer zone, absorbing any reflections that arrive late."
   ]
  },
  {
   "attachments": {},
   "cell_type": "markdown",
   "id": "e95f8e2f-63f0-4676-8b9d-f6a1b27ecab8",
   "metadata": {},
   "source": [
    "<figure>\n",
    "<img src=\"Block-diagram-of-an-OFDM-communications-system.png\" style=\"width:100%\">\n",
    "<figcaption align = \"center\"> Block Diagram of OFDM Transmitter and Receiver Chain </figcaption>\n",
    "</figure>"
   ]
  },
  {
   "cell_type": "markdown",
   "id": "4e216d9b-be16-4905-9d3b-6b394c0486d6",
   "metadata": {},
   "source": [
    "**Mathematical Representation of OFDM Transmission**\n",
    "Suppose we have \n",
    "𝑁 subcarriers, and each subcarrier transmits a symbol \n",
    "𝑋[𝑛] from a modulation scheme like QAM. The transmitted OFDM signal 𝑥(𝑡)\n",
    "in the time domain can be expressed as:\n",
    "1. **Frequency-Domain Representation**\n",
    "   $X={X[0],X[1],.......,X[N-1]}$\n",
    "   where $X[n]$ represents the data symbol on the $n^{th}$ subcarrier.\n",
    "2. **Time-Domain Signal Generation using IFFT**\n",
    "   - To generate the time-domain signal of transmission, we take IFFT of $X$\n",
    "      $x[k] = \\frac{1}{\\sqrt{N}} \\sum_{n=0}^{N-1} X[n]e^{j2\\pi nk/N}, k=0,1,.....N-1$\n",
    "   - This time-domain signal $x[k]$ is the OFDM symbol that contains the contribution of each subcarrier.\n",
    "3. **Adding the Cyclic Prefix**\n",
    "   - Let $L$ be the length of the cyclic prefix. The cyclic prefix is created by taking the last $L$ samples of the OFDM symbol and appending them at the start of the symbol.\n",
    "      $x_{CP}[k] =  x[N-L+k]$\n",
    "4. **Received Signal and FFT**\n",
    "   - After passing through a channel with impulse response $h(t)$ and adding noise $w(t)$, the received signal $y(t)$ is processesd by the FFT:\n",
    "     $Y[n] = H[n]X[n]+W[n]$\n",
    "   - Here, $H[n]$ is the CFR ar subcarrier $n$, and $W[n]$ represents the noise in the frequency domain.\n",
    "   - Now, we can show that $W[n]$'s are uncorrelated (and also independent), which means we will get a kind of orthogonal AWGN channels (in frequency domain) for $n=0,1,......N$, which can be easily decoded with traditional ML Decoder after channel equalizataion.\n",
    "\n"
   ]
  },
  {
   "cell_type": "markdown",
   "id": "846386e6-50ec-4f8a-9d98-477ed2093d07",
   "metadata": {},
   "source": [
    "#### • Long Training field (L-LTF)"
   ]
  },
  {
   "cell_type": "markdown",
   "id": "f5e39673-002f-4cb5-a67d-00071335242a",
   "metadata": {},
   "source": [
    "\n",
    "Channel estimation in WLAN systems like 802.11ax often uses training sequences sent within the transmitted waveform to estimate the characteristics of the wireless channel. One common method involves the Legacy Long Training Field (L-LTF), which is part of the preamble sent at the beginning of each packet in 802.11 standards, including 802.11ax. Here’s an overview of how channel estimation is done using the L-LTF"
   ]
  },
  {
   "cell_type": "markdown",
   "id": "7688dd4d-2747-4ad5-b73f-0650ba166371",
   "metadata": {},
   "source": [
    "1. **Purpose of the L-LTF**\n",
    "   - The L-LTF provides a known reference sequence to the receiver, which helps it estimate the impact of the channel on the transmitted signal\n",
    "   - It is designed to be robust to various impairments like fading, multipath interference, and noise, typical in wireless environments\n",
    "2. **Structure of the L-LTF**\n",
    "   - The L-LTF consists of two identical, repeated OFDM symbols with a known structure and predefined data (i.e., they contain the same sequence of subcarrier values)\n",
    "   - This known repetition allows the receiver to differentiate the L-LTF from other fields in the signal and to leverage the repetitive structure for estimation\n",
    "3. **Channel Estimation using the L-LTF**\n",
    "   - Receive the Signal: The receiver captures the transmitted L-LTF, which has been distorted by the channel’s effects\n",
    "   - FFT Processing: The received L-LTF symbols are processed through the Fast Fourier Transform (FFT), transforming them from the time domain to the frequency domain. This conversion is necessary because OFDM signals operate on multiple subcarriers in the frequency domain\n",
    "   - Known vs. Received Values: In the frequency domain, the receiver knows the expected values for each subcarrier based on the pre-defined structure of the L-LTF. The received subcarrier values are then compared to the expected values, allowing the receiver to estimate the channel's response across the subcarriers\n",
    "   - Channel Response Calculation: The channel response H(f) on each subcarrier can be calculated by deividing the received L-LTF subcarrier values Y(f) by the known transmitted values X(f) as H(f) = Y(f)/X(f).\n",
    "   - Average and Smooth Channel REsponse: Since the L-LTF consists of two identical OFDM symbols, the receiver averages the estimates from each symbol. This averaging improves the accuracy of the estimate and reduces the impact of noise\n",
    "4. **Applying the Channel Estimate**\n",
    "   - Once the channel response H(f) is estimated across the subcarriers, the receiver can use this information to equalize the channel effects on the rest of the packet\n",
    "   - In other words, the channel estimate allows the receiver to reverse or mitigate the channel distortion, improving the accuracy of data demodulation\n",
    "5. **Advantages of Using the L-LTF for Channel Estimation**\n",
    "   - The L-LTF-based method is relatively simple and effective for moderate mobility environments, as it captures a snapshot of the channel response at the beginning of each packet\n",
    "   - Since the L-LTF is part of the 802.11 standard preamble, it ensures backward compatibility with legacy systems, making it versatile for use across different WLAN devices and standards (e.g., 802.11a/g/n/ac/ax)\n"
   ]
  },
  {
   "cell_type": "markdown",
   "id": "bc0c3fbe-7cf7-4eb5-862d-9b3a95f8833b",
   "metadata": {},
   "source": [
    "### *3. Results*"
   ]
  },
  {
   "cell_type": "markdown",
   "id": "fc2d9076-ce02-4ecd-9f39-2dc84211860c",
   "metadata": {},
   "source": [
    "<img src=\"expt4_fig1.png\" style=\"width:500px;height:400px\" title=\"Channel Impulse response model D\"/>"
   ]
  },
  {
   "cell_type": "markdown",
   "id": "1346aa0d-1dd0-48b4-a33a-cce10959b1e9",
   "metadata": {},
   "source": [
    "<img src=\"expt4_fig2.png\" style=\"width:600px;height:500px\" title=\"Estimated CFRs\"/>"
   ]
  },
  {
   "cell_type": "markdown",
   "id": "c20ab388-37b1-49cf-913c-068b7381fc3a",
   "metadata": {},
   "source": [
    "### *4. Code*"
   ]
  },
  {
   "cell_type": "markdown",
   "id": "ed796f88-2240-4bc6-a7e3-1ab544a11ff0",
   "metadata": {},
   "source": [
    "<h3> Configuration and Initialization </h3>"
   ]
  },
  {
   "cell_type": "code",
   "execution_count": 6,
   "id": "ce3c047a-a659-4336-92b4-b39061be65e0",
   "metadata": {},
   "outputs": [
    {
     "name": "stdout",
     "output_type": "stream",
     "text": [
      "  wlanHESUConfig with properties:\n",
      "\n",
      "       ChannelBandwidth: 'CBW20'\n",
      "          ExtendedRange: 0\n",
      "    NumTransmitAntennas: 1\n",
      "    NumSpaceTimeStreams: 1\n",
      "         SpatialMapping: 'Direct'\n",
      "    PreHESpatialMapping: 0\n",
      "                   STBC: 0\n",
      "                    MCS: 8\n",
      "                    DCM: 0\n",
      "          ChannelCoding: 'LDPC'\n",
      "             APEPLength: 0\n",
      "          GuardInterval: 0.8000\n",
      "              HELTFType: 1\n",
      "       UplinkIndication: 0\n",
      "               BSSColor: 0\n",
      "           SpatialReuse: 0\n",
      "           TXOPDuration: 127\n",
      "            HighDoppler: 0\n",
      "\n"
     ]
    }
   ],
   "source": [
    "clc;\n",
    "close all;\n",
    "clear all;\n",
    "cfgSU = wlanHESUConfig;                                             \n",
    "cfgSU.ChannelBandwidth='CBW20';\n",
    "cfgSU.MCS = 8;                                                              \n",
    "cfgSU.HELTFType =1;\n",
    "cfgSU.GuardInterval = 0.8;\n",
    "cfgSU.APEPLength=0;                                                          \n",
    "fs = wlanSampleRate(cfgSU);                             \n",
    "disp(cfgSU)\n",
    "\n",
    "chanBW = cfgSU.ChannelBandwidth;%def\n",
    "psdu = randi([0 1], getPSDULength(cfgSU)*8, 1);\n",
    "txWaveform = wlanWaveformGenerator(psdu,cfgSU,'WindowTransitionTime',0); % Disable windowing);\n",
    "\n",
    "ind = wlanFieldIndices(cfgSU);\n",
    "LLTF_transmitted = txWaveform((ind.LLTF(1):ind.LLTF(2)), :);\n"
   ]
  },
  {
   "cell_type": "markdown",
   "id": "e26b404c-8268-4f61-933f-3f61ce54b4be",
   "metadata": {},
   "source": [
    "**This section clears the workspace and sets up the 802.11ax High Efficiency Single User (HE-SU) packet configuration using the WLAN System Toolbox. Key parameters include:**\n",
    "- *Channel Bandwidth* = 20 MHz\n",
    "- *MCS* = Modulation and Coding Scheme (set to 8, indicating 256-QAM)\n",
    "- *HELTFType* : Type 1 High Efficiency Long Training Field (HE-LTF)\n",
    "- *Guard Interval* : 0.8 us\n",
    "- *APEPLength* : Set to 0, indicating no payload data for this     configuration. The sample rate fs is obtained from the configuration and displayed.\n",
    "- Generates a random **Physical Layer Service Data Unit** (PSDU) bit sequence based on the length required for the configuration.\n",
    "- We create the transmit waveform *txWaveform* using *wlanWaveformGenerator*. The L-LTF portion of the waveform us extracted for channel estimation process.<br>\n",
    "  "
   ]
  },
  {
   "cell_type": "markdown",
   "id": "e2b2278d-9629-44a6-a386-45dd0f5ac7fa",
   "metadata": {},
   "source": [
    "<h3>Configuring the TGax channel</h3>"
   ]
  },
  {
   "cell_type": "code",
   "execution_count": 9,
   "id": "c370ee60-7d2b-4740-a174-41e612bc1260",
   "metadata": {},
   "outputs": [
    {
     "name": "stdout",
     "output_type": "stream",
     "text": [
      "  wlanTGaxChannel with properties:\n",
      "\n",
      "                 SampleRate: 100000000\n",
      "               DelayProfile: 'Model-D'\n",
      "           ChannelBandwidth: 'CBW20'\n",
      "           CarrierFrequency: 2.4000e+09\n",
      "         EnvironmentalSpeed: 0\n",
      "    TransmitReceiveDistance: 10\n",
      "         NormalizePathGains: true\n",
      "                  UserIndex: 0\n",
      "      TransmissionDirection: 'Downlink'\n",
      "        NumTransmitAntennas: 1\n",
      "         NumReceiveAntennas: 1\n",
      "     LargeScaleFadingEffect: 'Pathloss and shadowing'\n",
      "        NumPenetratedFloors: 0\n",
      "         NumPenetratedWalls: 2\n",
      "        WallPenetrationLoss: 5\n",
      "          FluorescentEffect: true\n",
      "         PowerLineFrequency: '60Hz'\n",
      "    NormalizeChannelOutputs: true\n",
      "           ChannelFiltering: true\n",
      "\n",
      "  Use get to show all properties\n",
      "\n"
     ]
    }
   ],
   "source": [
    "tgax = wlanTGaxChannel('ChannelBandwidth','CBW20');\n",
    "tgax.EnvironmentalSpeed=0;\n",
    "tgax.CarrierFrequency=2.4e9;\n",
    "tgax.LargeScaleFadingEffect = 'PathLoss and shadowing';    \n",
    "tgax.NumPenetratedWalls = 2 ;%Number of walls between transmitter and receiver. Accounts for the wall penetration loss in the path loss calculation.\n",
    "tgax.WallPenetrationLoss = 5; % penetration loss of a single wall in dB\n",
    " tgax.RandomStream = 'mt19937ar with seed';% source of the random number stream. mt19937ar alogorithm generates normally distributed random numbers.\n",
    " tgax.Seed = 10;% initial seed of the random number stream\n",
    " tgax.SampleRate = 100e6;%%%%%% Do not change this sample rate. For < 100e6, pathgains 1st row dont match to tgax(impulse input)\n",
    " tgax.PathGainsOutputPort = true;\n",
    "tgax.DelayProfile='Model-D';%Dealy profile model is Model-B\n",
    "tgax.ChannelBandwidth='CBW20';\n",
    "tgax.TransmitReceiveDistance=10;% in meters, breakpoint distance that obeys freespace pathloss model for Model B is 5m\n",
    "disp(tgax)\n"
   ]
  },
  {
   "cell_type": "markdown",
   "id": "3d0bb6e2-679f-49a3-8f63-bf509f920894",
   "metadata": {},
   "source": [
    "**This block configures the TGax channel model to simulate a multiplath fading environment**\n",
    "- *ChannelBandwidth* : Set to 20 MHz\n",
    "- *CarrierFrequency* : 2.4 GHz\n",
    "- *LargeScaleFadingEffect* : Both path loss and shadowing included\n",
    "- *NumPenetratedWalls* and *WallPenetrationLoss*: Settings for modeling wall penetration loss\n",
    "- *RandomStream* and *Seed*: Set the random generator for repeatability\n",
    "- *SampleRate*: Set to 100 MHz\n",
    "- *DelayProfile*: Model-D, which is a multipath profile suitable for indoor scenarios\n",
    "- *TransmitReceiveDistance*: Set to 10 meters\n",
    "  "
   ]
  },
  {
   "cell_type": "markdown",
   "id": "ce01fa2b-b2c1-4b4c-afdc-8aa45d1274b3",
   "metadata": {},
   "source": [
    "<h3>Transmit Signal through Channel, Retrieve Path Gains and Plot Channel Impulse Response</h3>"
   ]
  },
  {
   "cell_type": "code",
   "execution_count": 10,
   "id": "0440616c-1da9-4cbf-b2e0-3a0270c0f9bf",
   "metadata": {},
   "outputs": [
    {
     "data": {
      "image/png": "[encoded data removed]"
     },
     "execution_count": 10,
     "metadata": {},
     "output_type": "execute_result"
    }
   ],
   "source": [
    "[tgax_output,pathgains] = tgax(txWaveform);                       \n",
    "reset(tgax);                                                        \n",
    "info_tgax = info(tgax);\n",
    "nonZeroTapIdx = round(info_tgax.PathDelays*tgax.SampleRate)+1;\n",
    "Nh = size(info_tgax.ChannelFilterCoefficients,2);\n",
    "impr = zeros(Nh,1);\n",
    "impr(nonZeroTapIdx) = pathgains(1,:);\n",
    "figure(1)\n",
    "time = (1/tgax.SampleRate)*(0:length(impr)-1);\n",
    "stem(time,abs(impr));grid on;\n",
    "xlabel('Time (sec)');\n",
    "ylabel('|Amplitude|');\n",
    "title('Channel Impulse Response Model-D'); "
   ]
  },
  {
   "cell_type": "markdown",
   "id": "b0283729-7384-4a5c-abc1-07678685fbb0",
   "metadata": {},
   "source": [
    "- *tgax_output*: Output of the channel after passing txWaveform through it\n",
    "- *pathgains*: Path gains for each multipath component\n",
    "- *nonZeroTapIdx*: Indices corresponding to non-zero taps (delays)\n",
    "- *impr*: Stores the channel impulse response by setting non-zero paths to the path gains\n",
    "-  The channel impulse response is plotted, showing the amplitude vs. time for the Model-D channel profile."
   ]
  },
  {
   "cell_type": "markdown",
   "id": "55c11b7c-4eaf-42a3-b420-b2dedcda9e22",
   "metadata": {},
   "source": [
    "<h3>Retrieve and Process the Received L-LTF Field</h3>"
   ]
  },
  {
   "cell_type": "code",
   "execution_count": 11,
   "id": "3a7144c2-d0d4-4f07-a8d6-0a2b2def2a75",
   "metadata": {},
   "outputs": [
    {
     "data": {
      "text/html": [
       "<html><body><pre>a = \n",
       "   1.0e-03 *\n",
       "\n",
       "  -0.1746 - 0.1069i  -0.1777 - 0.0997i\n",
       "  -0.3829 - 0.0613i  -0.3910 - 0.0617i\n",
       "  -0.0362 - 0.1928i  -0.0403 - 0.1941i\n",
       "   0.3434 - 0.0309i   0.3427 - 0.0308i\n",
       "   0.0262 - 0.0706i   0.0258 - 0.0691i\n",
       "  -0.1658 + 0.0139i  -0.1639 + 0.0107i\n",
       "  -0.2302 + 0.1917i  -0.2261 + 0.1912i\n",
       "  -0.0657 - 0.1928i  -0.0657 - 0.1928i\n",
       "   0.1496 - 0.1374i   0.1496 - 0.1374i\n",
       "   0.0238 - 0.0527i   0.0238 - 0.0527i\n",
       "  -0.0825 + 0.1256i  -0.0825 + 0.1256i\n",
       "  -0.2285 + 0.2918i  -0.2285 + 0.2918i\n",
       "  -0.0201 - 0.2582i  -0.0201 - 0.2582i\n",
       "   0.1835 - 0.1625i   0.1835 - 0.1625i\n",
       "   0.1280 + 0.1278i   0.1280 + 0.1278i\n",
       "   0.1850 - 0.0240i   0.1850 - 0.0240i\n",
       "  -0.0918 - 0.0709i  -0.0918 - 0.0709i\n",
       "   0.0333 - 0.0762i   0.0333 - 0.0762i\n",
       "   0.2291 + 0.1684i   0.2291 + 0.1684i\n",
       "  -0.0432 + 0.1938i  -0.0432 + 0.1938i\n",
       "   0.1940 + 0.0627i   0.1940 + 0.0627i\n",
       "   0.1689 - 0.0154i   0.1689 - 0.0154i\n",
       "  -0.0981 + 0.0107i  -0.0981 + 0.0107i\n",
       "  -0.0716 + 0.2138i  -0.0716 + 0.2138i\n",
       "  -0.2967 + 0.0220i  -0.2967 + 0.0220i\n",
       "  -0.2596 + 0.1689i  -0.2596 + 0.1689i\n",
       "  -0.0286 + 0.2309i  -0.0286 + 0.2309i\n",
       "  -0.0238 - 0.2999i  -0.0238 - 0.2999i\n",
       "  -0.0032 - 0.0418i  -0.0032 - 0.0418i\n",
       "   0.0056 + 0.1950i   0.0056 + 0.1950i\n",
       "  -0.0029 - 0.2516i  -0.0029 - 0.2516i\n",
       "   0.0060 - 0.1553i   0.0060 - 0.1553i\n",
       "  -0.0293 + 0.3213i  -0.0293 + 0.3213i\n",
       "  -0.0509 - 0.0510i  -0.0509 - 0.0510i\n",
       "   0.0386 - 0.4590i   0.0386 - 0.4590i\n",
       "  -0.0290 + 0.1438i  -0.0290 + 0.1438i\n",
       "   0.0002 + 0.0994i   0.0002 + 0.0994i\n",
       "   0.1910 - 0.2717i   0.1910 - 0.2717i\n",
       "  -0.1340 + 0.2187i  -0.1340 + 0.2187i\n",
       "  -0.1761 + 0.2220i  -0.1761 + 0.2220i\n",
       "   0.2296 - 0.1411i   0.2296 - 0.1411i\n",
       "  -0.0150 - 0.0004i  -0.0150 - 0.0004i\n",
       "  -0.2359 + 0.1905i  -0.2359 + 0.1905i\n",
       "   0.1084 - 0.1044i   0.1084 - 0.1044i\n",
       "   0.1109 - 0.2220i   0.1109 - 0.2220i\n",
       "  -0.1829 + 0.2461i  -0.1829 + 0.2461i\n",
       "  -0.0272 + 0.1101i  -0.0272 + 0.1101i\n",
       "   0.0233 - 0.2901i   0.0233 - 0.2901i\n",
       "  -0.0700 - 0.1888i  -0.0700 - 0.1888i\n",
       "   0.1062 - 0.0851i   0.1062 - 0.0851i\n",
       "  -0.1413 - 0.1126i  -0.1413 - 0.1126i\n",
       "  -0.1223 - 0.1086i  -0.1223 - 0.1086i\n",
       "   0.2395 + 0.0902i   0.2395 + 0.0902i\n",
       "   0.1031 + 0.1239i   0.1031 + 0.1239i\n",
       "   0.2177 + 0.0806i   0.2177 + 0.0806i\n",
       "   0.2213 - 0.0231i   0.2213 - 0.0231i\n",
       "   0.0021 - 0.1684i   0.0021 - 0.1684i\n",
       "   0.0985 + 0.2187i   0.0985 + 0.2187i\n",
       "   0.0640 + 0.2759i   0.0640 + 0.2759i\n",
       "  -0.0120 + 0.1057i  -0.0120 + 0.1057i\n",
       "  -0.1335 + 0.0585i  -0.1335 + 0.0585i\n",
       "  -0.0275 - 0.2105i  -0.0275 - 0.2105i\n",
       "   0.2102 + 0.0303i   0.2102 + 0.0303i\n",
       "   0.0622 + 0.0820i   0.0622 + 0.0820i\n",
       "</pre></body></html>"
      ],
      "text/plain": [
       "a = \n",
       "   1.0e-03 *\n",
       "\n",
       "  -0.1746 - 0.1069i  -0.1777 - 0.0997i\n",
       "  -0.3829 - 0.0613i  -0.3910 - 0.0617i\n",
       "  -0.0362 - 0.1928i  -0.0403 - 0.1941i\n",
       "   0.3434 - 0.0309i   0.3427 - 0.0308i\n",
       "   0.0262 - 0.0706i   0.0258 - 0.0691i\n",
       "  -0.1658 + 0.0139i  -0.1639 + 0.0107i\n",
       "  -0.2302 + 0.1917i  -0.2261 + 0.1912i\n",
       "  -0.0657 - 0.1928i  -0.0657 - 0.1928i\n",
       "   0.1496 - 0.1374i   0.1496 - 0.1374i\n",
       "   0.0238 - 0.0527i   0.0238 - 0.0527i\n",
       "  -0.0825 + 0.1256i  -0.0825 + 0.1256i\n",
       "  -0.2285 + 0.2918i  -0.2285 + 0.2918i\n",
       "  -0.0201 - 0.2582i  -0.0201 - 0.2582i\n",
       "   0.1835 - 0.1625i   0.1835 - 0.1625i\n",
       "   0.1280 + 0.1278i   0.1280 + 0.1278i\n",
       "   0.1850 - 0.0240i   0.1850 - 0.0240i\n",
       "  -0.0918 - 0.0709i  -0.0918 - 0.0709i\n",
       "   0.0333 - 0.0762i   0.0333 - 0.0762i\n",
       "   0.2291 + 0.1684i   0.2291 + 0.1684i\n",
       "  -0.0432 + 0.1938i  -0.0432 + 0.1938i\n",
       "   0.1940 + 0.0627i   0.1940 + 0.0627i\n",
       "   0.1689 - 0.0154i   0.1689 - 0.0154i\n",
       "  -0.0981 + 0.0107i  -0.0981 + 0.0107i\n",
       "  -0.0716 + 0.2138i  -0.0716 + 0.2138i\n",
       "  -0.2967 + 0.0220i  -0.2967 + 0.0220i\n",
       "  -0.2596 + 0.1689i  -0.2596 + 0.1689i\n",
       "  -0.0286 + 0.2309i  -0.0286 + 0.2309i\n",
       "  -0.0238 - 0.2999i  -0.0238 - 0.2999i\n",
       "  -0.0032 - 0.0418i  -0.0032 - 0.0418i\n",
       "   0.0056 + 0.1950i   0.0056 + 0.1950i\n",
       "  -0.0029 - 0.2516i  -0.0029 - 0.2516i\n",
       "   0.0060 - 0.1553i   0.0060 - 0.1553i\n",
       "  -0.0293 + 0.3213i  -0.0293 + 0.3213i\n",
       "  -0.0509 - 0.0510i  -0.0509 - 0.0510i\n",
       "   0.0386 - 0.4590i   0.0386 - 0.4590i\n",
       "  -0.0290 + 0.1438i  -0.0290 + 0.1438i\n",
       "   0.0002 + 0.0994i   0.0002 + 0.0994i\n",
       "   0.1910 - 0.2717i   0.1910 - 0.2717i\n",
       "  -0.1340 + 0.2187i  -0.1340 + 0.2187i\n",
       "  -0.1761 + 0.2220i  -0.1761 + 0.2220i\n",
       "   0.2296 - 0.1411i   0.2296 - 0.1411i\n",
       "  -0.0150 - 0.0004i  -0.0150 - 0.0004i\n",
       "  -0.2359 + 0.1905i  -0.2359 + 0.1905i\n",
       "   0.1084 - 0.1044i   0.1084 - 0.1044i\n",
       "   0.1109 - 0.2220i   0.1109 - 0.2220i\n",
       "  -0.1829 + 0.2461i  -0.1829 + 0.2461i\n",
       "  -0.0272 + 0.1101i  -0.0272 + 0.1101i\n",
       "   0.0233 - 0.2901i   0.0233 - 0.2901i\n",
       "  -0.0700 - 0.1888i  -0.0700 - 0.1888i\n",
       "   0.1062 - 0.0851i   0.1062 - 0.0851i\n",
       "  -0.1413 - 0.1126i  -0.1413 - 0.1126i\n",
       "  -0.1223 - 0.1086i  -0.1223 - 0.1086i\n",
       "   0.2395 + 0.0902i   0.2395 + 0.0902i\n",
       "   0.1031 + 0.1239i   0.1031 + 0.1239i\n",
       "   0.2177 + 0.0806i   0.2177 + 0.0806i\n",
       "   0.2213 - 0.0231i   0.2213 - 0.0231i\n",
       "   0.0021 - 0.1684i   0.0021 - 0.1684i\n",
       "   0.0985 + 0.2187i   0.0985 + 0.2187i\n",
       "   0.0640 + 0.2759i   0.0640 + 0.2759i\n",
       "  -0.0120 + 0.1057i  -0.0120 + 0.1057i\n",
       "  -0.1335 + 0.0585i  -0.1335 + 0.0585i\n",
       "  -0.0275 - 0.2105i  -0.0275 - 0.2105i\n",
       "   0.2102 + 0.0303i   0.2102 + 0.0303i\n",
       "   0.0622 + 0.0820i   0.0622 + 0.0820i\n"
      ]
     },
     "execution_count": 11,
     "metadata": {},
     "output_type": "execute_result"
    }
   ],
   "source": [
    "rxWaveform=tgax_output;\n",
    "idxLLTF = wlanFieldIndices(cfgSU,'L-LTF');\n",
    "LLTF_rx=rxWaveform(idxLLTF(1):idxLLTF(2),:);                                     \n",
    "a=[ LLTF_rx(33:96) LLTF_rx(97:160)]\n",
    "LLTF_rx_discardCP=LLTF_rx(33:160);                                                                                                                                                                                                                               \n",
    "lltfDemod = wlanHEDemodulate(LLTF_rx,'L-LTF',cfgSU);\n"
   ]
  },
  {
   "cell_type": "markdown",
   "id": "803c6806-9eb2-414d-b1ba-75946b3d2e0d",
   "metadata": {},
   "source": [
    "- *rxWaveform*: Received waveform after channel distortion\n",
    "- *LLTF_rx*: Received L-LTF field\n",
    "- *LLTF_rx_discardCP*: Received L-LTF field without the cyclic prefix\n",
    "- *lltfDemod*: Frequency-domain demodulated L-LTF signal for channel estimation"
   ]
  },
  {
   "cell_type": "markdown",
   "id": "b32f9319-bd1d-4db0-b5cb-64e9a95200d1",
   "metadata": {},
   "source": [
    "<h3>Channel Estimation Using WLAN Toolbox</h3>"
   ]
  },
  {
   "cell_type": "code",
   "execution_count": 12,
   "id": "6f4eb2bb-2233-4bc8-8f3c-4aa42e21d704",
   "metadata": {},
   "outputs": [
    {
     "data": {
      "image/png": "[encoded data removed]"
     },
     "execution_count": 12,
     "metadata": {},
     "output_type": "execute_result"
    }
   ],
   "source": [
    "figure(2)\n",
    "subplot(3,1,1)\n",
    "est = wlanLLTFChannelEstimate(lltfDemod,chanBW);\n",
    "est=[est(1:26).' zeros(1,1) est(27:52).'];\n",
    "kk=[-26:26];\n",
    "stem(kk,abs(est));\n",
    "M1=max(abs(est))+0.1*max(abs(est));\n",
    "axis([-26 26 0 M1]);grid on;\n",
    "xlabel('subcarrier index');\n",
    "ylabel('estimated |CFR|');\n",
    "title(\"Estimated CFR : using wlanHEDemodulate\"+ newline  + \"and wlanLLTFChannelEstimate\")\n",
    "\n"
   ]
  },
  {
   "cell_type": "markdown",
   "id": "177543cb-6eaf-4dbe-8d50-1f5b44b82325",
   "metadata": {},
   "source": [
    "The above block performs channel estimation using the built-in wlanLLTFChannelEstimate function, which returns an estimated Channel Frequency Response (CFR) for each subcarrier. The result is then plotted"
   ]
  },
  {
   "cell_type": "markdown",
   "id": "f9165f01-bf4a-4f76-87d3-14511919ef34",
   "metadata": {},
   "source": [
    "<h3>Manual Channel Estimation</h3>"
   ]
  },
  {
   "cell_type": "code",
   "execution_count": 13,
   "id": "4dc98717-4a4c-40a3-b4df-ff069741ca6d",
   "metadata": {},
   "outputs": [
    {
     "data": {
      "text/html": [
       "<html><body><pre>Lkk = 1×52 double\n",
       "     1     1    -1    -1     1     1    -1     1    -1     1     1     1     1     1     1    -1    -1     1     1    -1     1    -1     1     1     1     1     1    -1    -1     1\n",
       "...</pre></body></html>"
      ],
      "text/plain": [
       "Lkk = 1×52 double\n",
       "     1     1    -1    -1     1     1    -1     1    -1     1     1     1     1     1     1    -1    -1     1     1    -1     1    -1     1     1     1     1     1    -1    -1     1\n",
       "..."
      ]
     },
     "execution_count": 13,
     "metadata": {},
     "output_type": "execute_result"
    }
   ],
   "source": [
    "yk=lltfDemod (:,1);\n",
    "lltfLower = [1; 1;-1;-1; ...\n",
    "        1; 1;-1; 1; ...\n",
    "        -1; 1; 1; 1; ...\n",
    "        1; 1; 1;-1; ...\n",
    "        -1; 1; 1;-1; ...\n",
    "        1;-1; 1; 1; ...\n",
    "        1; 1;];\n",
    "    lltfUpper = [1; ...\n",
    "           -1;-1; 1; 1; ...\n",
    "           -1; 1;-1; 1; ...\n",
    "           -1;-1;-1;-1; ...\n",
    "           -1; 1; 1;-1; ...\n",
    "           -1; 1;-1; 1; ...\n",
    "           -1; 1; 1; 1; 1];  \n",
    "\n",
    "LLTF_BPSK = [zeros(6,1); lltfLower; 0; lltfUpper; zeros(5,1)];   \n",
    "Lk=LLTF_BPSK.';  \n",
    "Lkk=[lltfLower' lltfUpper']\n",
    "\n",
    "for k=1:52\n",
    "estimated_hk(k)= yk(k)/Lkk(k); % estimated CFR\n",
    "end\n",
    "estimated_hk=[estimated_hk(1:26) zeros(1,1) estimated_hk(27:52)];\n",
    "\n"
   ]
  },
  {
   "cell_type": "markdown",
   "id": "c284d7c8-8949-4b04-adbb-1ba025581025",
   "metadata": {},
   "source": [
    "This part estimates the channel manually by dividing the received symbol yk by known transmitted L-LTF symbols for each subcarrier. This approach provides a direct estimation of the CFR, which is then stored in estimated_hk\n",
    "\n"
   ]
  },
  {
   "cell_type": "markdown",
   "id": "749663c9-3a6a-4c13-a71c-e3792b7878ef",
   "metadata": {},
   "source": [
    "<h3>Plotting the Manually Estimated CFR</h3>"
   ]
  },
  {
   "cell_type": "code",
   "execution_count": 14,
   "id": "2cbc5d44-c64c-474a-801c-a54ecc0492d9",
   "metadata": {},
   "outputs": [
    {
     "data": {
      "image/png": "[encoded data removed]"
     },
     "execution_count": 14,
     "metadata": {},
     "output_type": "execute_result"
    }
   ],
   "source": [
    "\n",
    "\n",
    "kk=[-26:26];\n",
    "figure(2)\n",
    "subplot(3,1,2)\n",
    "stem(kk,abs(estimated_hk));\n",
    "M1=1.1*max(abs(estimated_hk));\n",
    "axis([-26 26 0 M1]);\n",
    "grid on; title(\"Estimated CFR for: using wlanHEDemodulate \" + newline  + \"& OWN SCRIPT for estimation\")\n",
    "xlabel('subcarrier index');\n",
    "ylabel('estimated |CFR|');\n",
    "\n"
   ]
  },
  {
   "cell_type": "markdown",
   "id": "69623b5a-4e29-420b-bb7b-4ca5b1f37375",
   "metadata": {},
   "source": [
    "This block visualizes the manually estimated CFR."
   ]
  },
  {
   "cell_type": "markdown",
   "id": "6429d47e-aaec-47c2-aac0-49efc2d72d1f",
   "metadata": {},
   "source": [
    "<h3>True CFR Computation and Plotting</h3>"
   ]
  },
  {
   "cell_type": "code",
   "execution_count": 17,
   "id": "1f0a59db-5ea1-4cce-95db-c8da41b5cc84",
   "metadata": {
    "scrolled": true
   },
   "outputs": [
    {
     "data": {
      "image/png": "[encoded data removed]"
     },
     "execution_count": 17,
     "metadata": {},
     "output_type": "execute_result"
    }
   ],
   "source": [
    "H_K_from_impr=fftshift(fft((impr),64));\n",
    "\n",
    "H_K_from_impr=H_K_from_impr.';\n",
    "H_K_from_impr=[H_K_from_impr(7:32) zeros(1,1) H_K_from_impr(34:59)];\n",
    "\n",
    "kk=[-26:26];                                                                                                                 \n",
    "subplot(3,1,3);\n",
    "stem(kk,abs(H_K_from_impr));                                                                                                 \n",
    "M2=1.1*max(abs(H_K_from_impr));\n",
    "axis([-26 26 0 M2]);\n",
    "grid on;\n",
    "xlabel('subcarrier index');\n",
    "ylabel('True |CFR|');\n",
    "title('DFT of Actual Channel imp response (MODEL-D)');"
   ]
  },
  {
   "cell_type": "markdown",
   "id": "9bc90057-3cf1-43d1-91f7-258b6f7f86ef",
   "metadata": {},
   "source": [
    "This block computes the true CFR by taking the FFT of the impulse response, which represents the true CFR, and plots it for comparison against the estimated CFRs.\n",
    "\n",
    "This code is a comprehensive WLAN channel modeling and estimation example, combining theoretical channel estimation and practical verification via WLAN Toolbox"
   ]
  },
  {
   "cell_type": "code",
   "execution_count": 18,
   "id": "664bf83f-67a2-42ff-b26a-ad3744cf63f4",
   "metadata": {},
   "outputs": [
    {
     "name": "stdout",
     "output_type": "stream",
     "text": [
      "  wlanHESUConfig with properties:\n",
      "\n",
      "       ChannelBandwidth: 'CBW20'\n",
      "          ExtendedRange: 0\n",
      "    NumTransmitAntennas: 1\n",
      "    NumSpaceTimeStreams: 1\n",
      "         SpatialMapping: 'Direct'\n",
      "    PreHESpatialMapping: 0\n",
      "                   STBC: 0\n",
      "                    MCS: 8\n",
      "                    DCM: 0\n",
      "          ChannelCoding: 'LDPC'\n",
      "             APEPLength: 0\n",
      "          GuardInterval: 0.8000\n",
      "              HELTFType: 1\n",
      "       UplinkIndication: 0\n",
      "               BSSColor: 0\n",
      "           SpatialReuse: 0\n",
      "           TXOPDuration: 127\n",
      "            HighDoppler: 0\n",
      "\n",
      "  wlanTGaxChannel with properties:\n",
      "\n",
      "                 SampleRate: 100000000\n",
      "               DelayProfile: 'Model-D'\n",
      "           ChannelBandwidth: 'CBW20'\n",
      "           CarrierFrequency: 2.4000e+09\n",
      "         EnvironmentalSpeed: 0\n",
      "    TransmitReceiveDistance: 10\n",
      "         NormalizePathGains: true\n",
      "                  UserIndex: 0\n",
      "      TransmissionDirection: 'Downlink'\n",
      "        NumTransmitAntennas: 1\n",
      "         NumReceiveAntennas: 1\n",
      "     LargeScaleFadingEffect: 'Pathloss and shadowing'\n",
      "        NumPenetratedFloors: 0\n",
      "         NumPenetratedWalls: 2\n",
      "        WallPenetrationLoss: 5\n",
      "          FluorescentEffect: true\n",
      "         PowerLineFrequency: '60Hz'\n",
      "    NormalizeChannelOutputs: true\n",
      "           ChannelFiltering: true\n",
      "\n",
      "  Use get to show all properties\n",
      "\n"
     ]
    },
    {
     "data": {
      "image/png": "[encoded data removed]"
     },
     "execution_count": 18,
     "metadata": {},
     "output_type": "execute_result"
    },
    {
     "data": {
      "text/html": [
       "<html><body><pre>a = \n",
       "   1.0e-03 *\n",
       "\n",
       "  -0.1746 - 0.1069i  -0.1777 - 0.0997i\n",
       "  -0.3829 - 0.0613i  -0.3910 - 0.0617i\n",
       "  -0.0362 - 0.1928i  -0.0403 - 0.1941i\n",
       "   0.3434 - 0.0309i   0.3427 - 0.0308i\n",
       "   0.0262 - 0.0706i   0.0258 - 0.0691i\n",
       "  -0.1658 + 0.0139i  -0.1639 + 0.0107i\n",
       "  -0.2302 + 0.1917i  -0.2261 + 0.1912i\n",
       "  -0.0657 - 0.1928i  -0.0657 - 0.1928i\n",
       "   0.1496 - 0.1374i   0.1496 - 0.1374i\n",
       "   0.0238 - 0.0527i   0.0238 - 0.0527i\n",
       "  -0.0825 + 0.1256i  -0.0825 + 0.1256i\n",
       "  -0.2285 + 0.2918i  -0.2285 + 0.2918i\n",
       "  -0.0201 - 0.2582i  -0.0201 - 0.2582i\n",
       "   0.1835 - 0.1625i   0.1835 - 0.1625i\n",
       "   0.1280 + 0.1278i   0.1280 + 0.1278i\n",
       "   0.1850 - 0.0240i   0.1850 - 0.0240i\n",
       "  -0.0918 - 0.0709i  -0.0918 - 0.0709i\n",
       "   0.0333 - 0.0762i   0.0333 - 0.0762i\n",
       "   0.2291 + 0.1684i   0.2291 + 0.1684i\n",
       "  -0.0432 + 0.1938i  -0.0432 + 0.1938i\n",
       "   0.1940 + 0.0627i   0.1940 + 0.0627i\n",
       "   0.1689 - 0.0154i   0.1689 - 0.0154i\n",
       "  -0.0981 + 0.0107i  -0.0981 + 0.0107i\n",
       "  -0.0716 + 0.2138i  -0.0716 + 0.2138i\n",
       "  -0.2967 + 0.0220i  -0.2967 + 0.0220i\n",
       "  -0.2596 + 0.1689i  -0.2596 + 0.1689i\n",
       "  -0.0286 + 0.2309i  -0.0286 + 0.2309i\n",
       "  -0.0238 - 0.2999i  -0.0238 - 0.2999i\n",
       "  -0.0032 - 0.0418i  -0.0032 - 0.0418i\n",
       "   0.0056 + 0.1950i   0.0056 + 0.1950i\n",
       "  -0.0029 - 0.2516i  -0.0029 - 0.2516i\n",
       "   0.0060 - 0.1553i   0.0060 - 0.1553i\n",
       "  -0.0293 + 0.3213i  -0.0293 + 0.3213i\n",
       "  -0.0509 - 0.0510i  -0.0509 - 0.0510i\n",
       "   0.0386 - 0.4590i   0.0386 - 0.4590i\n",
       "  -0.0290 + 0.1438i  -0.0290 + 0.1438i\n",
       "   0.0002 + 0.0994i   0.0002 + 0.0994i\n",
       "   0.1910 - 0.2717i   0.1910 - 0.2717i\n",
       "  -0.1340 + 0.2187i  -0.1340 + 0.2187i\n",
       "  -0.1761 + 0.2220i  -0.1761 + 0.2220i\n",
       "   0.2296 - 0.1411i   0.2296 - 0.1411i\n",
       "  -0.0150 - 0.0004i  -0.0150 - 0.0004i\n",
       "  -0.2359 + 0.1905i  -0.2359 + 0.1905i\n",
       "   0.1084 - 0.1044i   0.1084 - 0.1044i\n",
       "   0.1109 - 0.2220i   0.1109 - 0.2220i\n",
       "  -0.1829 + 0.2461i  -0.1829 + 0.2461i\n",
       "  -0.0272 + 0.1101i  -0.0272 + 0.1101i\n",
       "   0.0233 - 0.2901i   0.0233 - 0.2901i\n",
       "  -0.0700 - 0.1888i  -0.0700 - 0.1888i\n",
       "   0.1062 - 0.0851i   0.1062 - 0.0851i\n",
       "  -0.1413 - 0.1126i  -0.1413 - 0.1126i\n",
       "  -0.1223 - 0.1086i  -0.1223 - 0.1086i\n",
       "   0.2395 + 0.0902i   0.2395 + 0.0902i\n",
       "   0.1031 + 0.1239i   0.1031 + 0.1239i\n",
       "   0.2177 + 0.0806i   0.2177 + 0.0806i\n",
       "   0.2213 - 0.0231i   0.2213 - 0.0231i\n",
       "   0.0021 - 0.1684i   0.0021 - 0.1684i\n",
       "   0.0985 + 0.2187i   0.0985 + 0.2187i\n",
       "   0.0640 + 0.2759i   0.0640 + 0.2759i\n",
       "  -0.0120 + 0.1057i  -0.0120 + 0.1057i\n",
       "  -0.1335 + 0.0585i  -0.1335 + 0.0585i\n",
       "  -0.0275 - 0.2105i  -0.0275 - 0.2105i\n",
       "   0.2102 + 0.0303i   0.2102 + 0.0303i\n",
       "   0.0622 + 0.0820i   0.0622 + 0.0820i\n",
       "</pre></body></html>"
      ],
      "text/plain": [
       "a = \n",
       "   1.0e-03 *\n",
       "\n",
       "  -0.1746 - 0.1069i  -0.1777 - 0.0997i\n",
       "  -0.3829 - 0.0613i  -0.3910 - 0.0617i\n",
       "  -0.0362 - 0.1928i  -0.0403 - 0.1941i\n",
       "   0.3434 - 0.0309i   0.3427 - 0.0308i\n",
       "   0.0262 - 0.0706i   0.0258 - 0.0691i\n",
       "  -0.1658 + 0.0139i  -0.1639 + 0.0107i\n",
       "  -0.2302 + 0.1917i  -0.2261 + 0.1912i\n",
       "  -0.0657 - 0.1928i  -0.0657 - 0.1928i\n",
       "   0.1496 - 0.1374i   0.1496 - 0.1374i\n",
       "   0.0238 - 0.0527i   0.0238 - 0.0527i\n",
       "  -0.0825 + 0.1256i  -0.0825 + 0.1256i\n",
       "  -0.2285 + 0.2918i  -0.2285 + 0.2918i\n",
       "  -0.0201 - 0.2582i  -0.0201 - 0.2582i\n",
       "   0.1835 - 0.1625i   0.1835 - 0.1625i\n",
       "   0.1280 + 0.1278i   0.1280 + 0.1278i\n",
       "   0.1850 - 0.0240i   0.1850 - 0.0240i\n",
       "  -0.0918 - 0.0709i  -0.0918 - 0.0709i\n",
       "   0.0333 - 0.0762i   0.0333 - 0.0762i\n",
       "   0.2291 + 0.1684i   0.2291 + 0.1684i\n",
       "  -0.0432 + 0.1938i  -0.0432 + 0.1938i\n",
       "   0.1940 + 0.0627i   0.1940 + 0.0627i\n",
       "   0.1689 - 0.0154i   0.1689 - 0.0154i\n",
       "  -0.0981 + 0.0107i  -0.0981 + 0.0107i\n",
       "  -0.0716 + 0.2138i  -0.0716 + 0.2138i\n",
       "  -0.2967 + 0.0220i  -0.2967 + 0.0220i\n",
       "  -0.2596 + 0.1689i  -0.2596 + 0.1689i\n",
       "  -0.0286 + 0.2309i  -0.0286 + 0.2309i\n",
       "  -0.0238 - 0.2999i  -0.0238 - 0.2999i\n",
       "  -0.0032 - 0.0418i  -0.0032 - 0.0418i\n",
       "   0.0056 + 0.1950i   0.0056 + 0.1950i\n",
       "  -0.0029 - 0.2516i  -0.0029 - 0.2516i\n",
       "   0.0060 - 0.1553i   0.0060 - 0.1553i\n",
       "  -0.0293 + 0.3213i  -0.0293 + 0.3213i\n",
       "  -0.0509 - 0.0510i  -0.0509 - 0.0510i\n",
       "   0.0386 - 0.4590i   0.0386 - 0.4590i\n",
       "  -0.0290 + 0.1438i  -0.0290 + 0.1438i\n",
       "   0.0002 + 0.0994i   0.0002 + 0.0994i\n",
       "   0.1910 - 0.2717i   0.1910 - 0.2717i\n",
       "  -0.1340 + 0.2187i  -0.1340 + 0.2187i\n",
       "  -0.1761 + 0.2220i  -0.1761 + 0.2220i\n",
       "   0.2296 - 0.1411i   0.2296 - 0.1411i\n",
       "  -0.0150 - 0.0004i  -0.0150 - 0.0004i\n",
       "  -0.2359 + 0.1905i  -0.2359 + 0.1905i\n",
       "   0.1084 - 0.1044i   0.1084 - 0.1044i\n",
       "   0.1109 - 0.2220i   0.1109 - 0.2220i\n",
       "  -0.1829 + 0.2461i  -0.1829 + 0.2461i\n",
       "  -0.0272 + 0.1101i  -0.0272 + 0.1101i\n",
       "   0.0233 - 0.2901i   0.0233 - 0.2901i\n",
       "  -0.0700 - 0.1888i  -0.0700 - 0.1888i\n",
       "   0.1062 - 0.0851i   0.1062 - 0.0851i\n",
       "  -0.1413 - 0.1126i  -0.1413 - 0.1126i\n",
       "  -0.1223 - 0.1086i  -0.1223 - 0.1086i\n",
       "   0.2395 + 0.0902i   0.2395 + 0.0902i\n",
       "   0.1031 + 0.1239i   0.1031 + 0.1239i\n",
       "   0.2177 + 0.0806i   0.2177 + 0.0806i\n",
       "   0.2213 - 0.0231i   0.2213 - 0.0231i\n",
       "   0.0021 - 0.1684i   0.0021 - 0.1684i\n",
       "   0.0985 + 0.2187i   0.0985 + 0.2187i\n",
       "   0.0640 + 0.2759i   0.0640 + 0.2759i\n",
       "  -0.0120 + 0.1057i  -0.0120 + 0.1057i\n",
       "  -0.1335 + 0.0585i  -0.1335 + 0.0585i\n",
       "  -0.0275 - 0.2105i  -0.0275 - 0.2105i\n",
       "   0.2102 + 0.0303i   0.2102 + 0.0303i\n",
       "   0.0622 + 0.0820i   0.0622 + 0.0820i\n"
      ]
     },
     "execution_count": 18,
     "metadata": {},
     "output_type": "execute_result"
    },
    {
     "data": {
      "image/png": "[encoded data removed]"
     },
     "execution_count": 18,
     "metadata": {},
     "output_type": "execute_result"
    },
    {
     "data": {
      "text/html": [
       "<html><body><pre>Lkk = 1×52 double\n",
       "     1     1    -1    -1     1     1    -1     1    -1     1     1     1     1     1     1    -1    -1     1     1    -1     1    -1     1     1     1     1     1    -1    -1     1\n",
       "...</pre></body></html>"
      ],
      "text/plain": [
       "Lkk = 1×52 double\n",
       "     1     1    -1    -1     1     1    -1     1    -1     1     1     1     1     1     1    -1    -1     1     1    -1     1    -1     1     1     1     1     1    -1    -1     1\n",
       "..."
      ]
     },
     "execution_count": 18,
     "metadata": {},
     "output_type": "execute_result"
    }
   ],
   "source": [
    "%% OFDM using WLAN Toolbox\n",
    "%  LS estimation of CFR over LLTF subcarriers coded on 16/10/2019\n",
    "clc;close all;clear all;\n",
    "% Create the HE packet configuration and transmit waveform.\n",
    "cfgSU = wlanHESUConfig; %wlanHESUConfig creates a single user (SU) high efficiency (HE)format configuration object. This object contains the transmit\n",
    "%parameters for the HE-SU format of IEEE P802.11ax/D3.1 standard.\n",
    "cfgSU.ChannelBandwidth='CBW20';\n",
    "cfgSU.MCS = 8;   %256 QAM Modulation and coding rate = 3/4. Applicable only for user data. Not to preamble\n",
    "cfgSU.HELTFType =1;\n",
    "cfgSU.GuardInterval = 0.8;\n",
    "cfgSU.APEPLength=0;% Data field carry PSDU's. Specify PSDU length\n",
    "fs = wlanSampleRate(cfgSU); % Get baseband sample rate% 20MHz=BW\n",
    "disp(cfgSU)\n",
    "\n",
    "chanBW = cfgSU.ChannelBandwidth;%default 20MHz channel\n",
    "psdu = randi([0 1], getPSDULength(cfgSU)*8, 1); % Create a PSDU, getPSDULength(cfgSU)=100 bytes\n",
    "txWaveform = wlanWaveformGenerator(psdu,cfgSU,'WindowTransitionTime',0); % Disable windowing);\n",
    "%Produce a waveform containing an 802.11ax HE single user packet \n",
    "%WAVEFORM is a complex Ns-by-Nt matrix \n",
    "\n",
    "ind = wlanFieldIndices(cfgSU);\n",
    "LLTF_transmitted = txWaveform((ind.LLTF(1):ind.LLTF(2)), :);\n",
    "\n",
    "% Configure a TGax channel with 20 MHz bandwidth.\n",
    "tgax = wlanTGaxChannel('ChannelBandwidth','CBW20');\n",
    "tgax.EnvironmentalSpeed=0;\n",
    "tgax.CarrierFrequency=2.4e9;\n",
    "tgax.LargeScaleFadingEffect = 'PathLoss and shadowing';    \n",
    "tgax.NumPenetratedWalls = 2 ;%Number of walls between transmitter and receiver. Accounts for the wall penetration loss in the path loss calculation.\n",
    "tgax.WallPenetrationLoss = 5; % penetration loss of a single wall in dB\n",
    " tgax.RandomStream = 'mt19937ar with seed';% source of the random number stream. mt19937ar alogorithm generates normally distributed random numbers.\n",
    " tgax.Seed = 10;% initial seed of the random number stream\n",
    " tgax.SampleRate = 100e6;%%%%%% Do not change this sample rate. For < 100e6, pathgains 1st row dont match to tgax(impulse input)\n",
    " tgax.PathGainsOutputPort = true;\n",
    "tgax.DelayProfile='Model-D';%Dealy profile model is Model-B\n",
    "tgax.ChannelBandwidth='CBW20';\n",
    "tgax.TransmitReceiveDistance=10;% in meters, breakpoint distance that obeys freespace pathloss model for Model B is 5m\n",
    "disp(tgax)\n",
    "\n",
    " % Pass through a fading indoor TGax channel\n",
    "[tgax_output,pathgains] = tgax(txWaveform);%% note Pathgains are independent of the input signal(values or the number of samples Ns) and depends only on the propagation MOdel:\n",
    "reset(tgax); % Reset channel for different realization\n",
    "\n",
    "info_tgax = info(tgax);\n",
    "% The PathDelays provides the delay in secods of each path (non-zero)\n",
    "nonZeroTapIdx = round(info_tgax.PathDelays*tgax.SampleRate)+1;\n",
    "% ChannelFilterCoefficients is an Np-by-Nh where Nh is the number of\n",
    "% impulse response samples. This gives us the length of the channel impulse response.\n",
    "% Create the channel impulse response by setting non-zero paths to the path\n",
    "% gains returned by the channel\n",
    "Nh = size(info_tgax.ChannelFilterCoefficients,2);\n",
    "impr = zeros(Nh,1);\n",
    "impr(nonZeroTapIdx) = pathgains(1,:);\n",
    "\n",
    "figure(1)\n",
    "time = (1/tgax.SampleRate)*(0:length(impr)-1);\n",
    "stem(time,abs(impr));grid on;\n",
    "xlabel('Time (sec)');\n",
    "ylabel('|Amplitude|');\n",
    "title('Channel Impulse Response Model-D'); \n",
    "\n",
    "%%% 11ax FADING channel\n",
    "rxWaveform=tgax_output;\n",
    "\n",
    "idxLLTF = wlanFieldIndices(cfgSU,'L-LTF');\n",
    "LLTF_rx=rxWaveform(idxLLTF(1):idxLLTF(2),:);%Time domain received samples\n",
    "%LLTF_rx=rxWaveform(161:320)\n",
    "a=[ LLTF_rx(33:96) LLTF_rx(97:160)]\n",
    "%%% Note LLTF1 and LLTF2 received are same! as Txed are same\n",
    "LLTF_rx_discardCP=LLTF_rx(33:160); %without CP\n",
    "\n",
    "lltfDemod = wlanHEDemodulate(LLTF_rx,'L-LTF',cfgSU);%lltfDemod is 52 X 2\n",
    "%  SYM = wlanHEDemodulate(RX,FIELDNAME,CFG) demodulates the time-domain\n",
    "%   received time-domain signal RX (Ns-by-Nr) using OFDM demodulation parameters appropriate for the specified FIELDNAME.\n",
    "%   SYM is the demodulated frequency-domain signal, returned as a complex  matrix or 3-D array of size \n",
    "%Nst-by-Nsym-by-Nr. \n",
    "%Nst is the number of active (occupied) subcarriers in the field. \n",
    "%Nsym is the number of OFDM symbols. Nr is the number of receive antennas.\n",
    "\n",
    "%%%ESTIMATION of CHANNEL EVERY SUB-CARRIER using wlanLLTFChannelEstimate\n",
    "\n",
    "figure(2)\n",
    "subplot(3,1,1)\n",
    "est = wlanLLTFChannelEstimate(lltfDemod,chanBW);\n",
    "est=[est(1:26).' zeros(1,1) est(27:52).'];\n",
    "kk=[-26:26];\n",
    "stem(kk,abs(est));\n",
    "M1=max(abs(est))+0.1*max(abs(est));\n",
    "axis([-26 26 0 M1]);grid on;\n",
    "xlabel('subcarrier index');\n",
    "ylabel('estimated |CFR|');\n",
    "title(\"Estimated CFR : using wlanHEDemodulate\"+ newline  + \"and wlanLLTFChannelEstimate\")\n",
    "\n",
    "%%%%% OWN CODE for channel estimation\n",
    "yk=lltfDemod (:,1);%%%%%%%% here yk is 52 X 1 obtained from 160X1 rx samples\n",
    "\n",
    "lltfLower = [1; 1;-1;-1; ...\n",
    "        1; 1;-1; 1; ...\n",
    "        -1; 1; 1; 1; ...\n",
    "        1; 1; 1;-1; ...\n",
    "        -1; 1; 1;-1; ...\n",
    "        1;-1; 1; 1; ...\n",
    "        1; 1;];\n",
    "    lltfUpper = [1; ...\n",
    "           -1;-1; 1; 1; ...\n",
    "           -1; 1;-1; 1; ...\n",
    "           -1;-1;-1;-1; ...\n",
    "           -1; 1; 1;-1; ...\n",
    "           -1; 1;-1; 1; ...\n",
    "           -1; 1; 1; 1; 1];   %has 52 populated subcarriers before performing IFFT\n",
    "\n",
    "       % Add null subcarriers to the populated subcarriers  \n",
    "LLTF_BPSK = [zeros(6,1); lltfLower; 0; lltfUpper; zeros(5,1)]; %length=64\n",
    "       % first 6 Subcarriers , central subcarrier and last 5 subcarriers are Null\n",
    "% subcarriers. In total there are 12 null subcarriers and 52 populated subcarriers\n",
    "Lk=LLTF_BPSK.';  \n",
    "\n",
    "Lkk=[lltfLower' lltfUpper']\n",
    "% Lkk=[Lk(7:32) Lk(34:59)]%% 33rd values is zero\n",
    "for k=1:52\n",
    "estimated_hk(k)= yk(k)/Lkk(k); % estimated CFR\n",
    "end\n",
    "estimated_hk=[estimated_hk(1:26) zeros(1,1) estimated_hk(27:52)];\n",
    "\n",
    "kk=[-26:26];\n",
    "figure(2)\n",
    "subplot(3,1,2)\n",
    "stem(kk,abs(estimated_hk));\n",
    "M1=1.1*max(abs(estimated_hk));\n",
    "axis([-26 26 0 M1]);\n",
    "grid on; title(\"Estimated CFR for: using wlanHEDemodulate \" + newline  + \"& OWN SCRIPT for estimation\")\n",
    "xlabel('subcarrier index');\n",
    "ylabel('estimated |CFR|');\n",
    "\n",
    "%%%@@@@@@@@@@@@@@@@@@@@@@@@@@@@@@@@@@@@@@@@@@@@@@@@@@@@@@@@@@@@@@@@@@@@@@@@@@@@@@@@@\n",
    "%%%%% DFT of Actual Channel impulse response plot(9 tap filter coefficients) of MODEL B plot\n",
    "H_K_from_impr=fftshift(fft((impr),64));%%% impr is the actual h(n) of delay profile Model 'B'\n",
    "%%% first take fft and then do fft shift. \n",
    "\n",
    "H_K_from_impr=H_K_from_impr.';\n",
    "H_K_from_impr=[H_K_from_impr(7:32) zeros(1,1) H_K_from_impr(34:59)];\n",
    "% null subcarrier index are vomited\n",
    "\n",
    "kk=[-26:26]; % null subcarrier index are vomited and populated subcarrier index are considered where the LLTF constellation symbols populated\n",
    "subplot(3,1,3);\n",
    "stem(kk,abs(H_K_from_impr)); % true Hk computed from actual Channel impulse response(9 tap filter coefficients) of MODEL B'\n",
    "M2=1.1*max(abs(H_K_from_impr));\n",
    "axis([-26 26 0 M2]);\n",
    "grid on;\n",
    "xlabel('subcarrier index');\n",
    "ylabel('True |CFR|');\n",
    "title('DFT of Actual Channel imp response (MODEL-D)');\n",
    "% legend('The channel is estimated only at the populated subcarriers')\n",
    "\n",
    "info = wlanHEOFDMInfo('L-LTF',cfgSU);\n",
    "data = LLTF_BPSK(info.DataIndices,:,:);\n",
    " pilots = LLTF_BPSK(info.PilotIndices,:,:);\n",
    " % Save all variables from the workspace to LS_estimation_of_CFR_fading_channel.mat:\n",
    "filename = 'LS_estimation_of_CFR_fading_channel'; %.mat file. Give name other than the matlab script filename!\n",
    "save(filename)\n",
    "\n",
    "% wlanHEOFDMInfo('L-LTF',cfgSU)"
   ]
  },
  {
   "cell_type": "code",
   "execution_count": null,
   "id": "0c573f79-a644-4e43-9174-886a30b2ddb2",
   "metadata": {},
   "outputs": [],
   "source": []
  }
 ],
 "metadata": {
  "kernelspec": {
   "display_name": "MATLAB Kernel",
   "language": "matlab",
   "name": "jupyter_matlab_kernel"
  },
  "language_info": {
   "file_extension": ".m",
   "mimetype": "text/x-matlab",
   "name": "matlab"
  }
 },
 "nbformat": 4,
 "nbformat_minor": 5
}
